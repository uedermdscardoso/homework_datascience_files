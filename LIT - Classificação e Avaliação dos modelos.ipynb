{
 "cells": [
  {
   "cell_type": "code",
   "execution_count": 2,
   "id": "mexican-cambridge",
   "metadata": {},
   "outputs": [],
   "source": [
    "from sklearn.impute import SimpleImputer\n",
    "\n",
    "import pandas as pd\n",
    "import numpy as np"
   ]
  },
  {
   "cell_type": "code",
   "execution_count": 3,
   "id": "absent-yeast",
   "metadata": {},
   "outputs": [],
   "source": [
    "df_training = pd.read_csv('df_training_pre_processing_to_model.csv')"
   ]
  },
  {
   "cell_type": "code",
   "execution_count": 4,
   "id": "typical-suspect",
   "metadata": {},
   "outputs": [
    {
     "name": "stdout",
     "output_type": "stream",
     "text": [
      "<class 'pandas.core.frame.DataFrame'>\n",
      "RangeIndex: 6578 entries, 0 to 6577\n",
      "Data columns (total 13 columns):\n",
      " #   Column                      Non-Null Count  Dtype  \n",
      "---  ------                      --------------  -----  \n",
      " 0   graduacao                   6578 non-null   int64  \n",
      " 1   universidade                6578 non-null   int64  \n",
      " 2   profissao                   6578 non-null   int64  \n",
      " 3   organizacao                 6578 non-null   int64  \n",
      " 4   pretende_fazer_cursos_lit   6578 non-null   float64\n",
      " 5   interesse_mba_lit           6578 non-null   float64\n",
      " 6   importante_ter_certificado  6578 non-null   float64\n",
      " 7   horas_semanais_estudo       6578 non-null   float64\n",
      " 8   como_conheceu_lit           6578 non-null   int64  \n",
      " 9   modulos_iniciados           6578 non-null   float64\n",
      " 10  modulos_finalizados         6578 non-null   float64\n",
      " 11  certificados                6578 non-null   float64\n",
      " 12  categoria                   6578 non-null   object \n",
      "dtypes: float64(7), int64(5), object(1)\n",
      "memory usage: 668.2+ KB\n"
     ]
    }
   ],
   "source": [
    "df_training.info()"
   ]
  },
  {
   "cell_type": "code",
   "execution_count": 5,
   "id": "located-latest",
   "metadata": {},
   "outputs": [
    {
     "data": {
      "text/html": [
       "<div>\n",
       "<style scoped>\n",
       "    .dataframe tbody tr th:only-of-type {\n",
       "        vertical-align: middle;\n",
       "    }\n",
       "\n",
       "    .dataframe tbody tr th {\n",
       "        vertical-align: top;\n",
       "    }\n",
       "\n",
       "    .dataframe thead th {\n",
       "        text-align: right;\n",
       "    }\n",
       "</style>\n",
       "<table border=\"1\" class=\"dataframe\">\n",
       "  <thead>\n",
       "    <tr style=\"text-align: right;\">\n",
       "      <th></th>\n",
       "      <th>graduacao</th>\n",
       "      <th>universidade</th>\n",
       "      <th>profissao</th>\n",
       "      <th>organizacao</th>\n",
       "      <th>pretende_fazer_cursos_lit</th>\n",
       "      <th>interesse_mba_lit</th>\n",
       "      <th>importante_ter_certificado</th>\n",
       "      <th>horas_semanais_estudo</th>\n",
       "      <th>como_conheceu_lit</th>\n",
       "      <th>modulos_iniciados</th>\n",
       "      <th>modulos_finalizados</th>\n",
       "      <th>certificados</th>\n",
       "      <th>categoria</th>\n",
       "    </tr>\n",
       "  </thead>\n",
       "  <tbody>\n",
       "    <tr>\n",
       "      <th>6573</th>\n",
       "      <td>0</td>\n",
       "      <td>20</td>\n",
       "      <td>9</td>\n",
       "      <td>7</td>\n",
       "      <td>0.0</td>\n",
       "      <td>0.0</td>\n",
       "      <td>1.0</td>\n",
       "      <td>6.0</td>\n",
       "      <td>6</td>\n",
       "      <td>39.0</td>\n",
       "      <td>32.0</td>\n",
       "      <td>0.0</td>\n",
       "      <td>perfil2</td>\n",
       "    </tr>\n",
       "    <tr>\n",
       "      <th>6574</th>\n",
       "      <td>0</td>\n",
       "      <td>6</td>\n",
       "      <td>6</td>\n",
       "      <td>11</td>\n",
       "      <td>1.0</td>\n",
       "      <td>1.0</td>\n",
       "      <td>1.0</td>\n",
       "      <td>6.0</td>\n",
       "      <td>6</td>\n",
       "      <td>166.0</td>\n",
       "      <td>102.0</td>\n",
       "      <td>0.0</td>\n",
       "      <td>perfil4</td>\n",
       "    </tr>\n",
       "    <tr>\n",
       "      <th>6575</th>\n",
       "      <td>5</td>\n",
       "      <td>11</td>\n",
       "      <td>10</td>\n",
       "      <td>9</td>\n",
       "      <td>0.0</td>\n",
       "      <td>0.0</td>\n",
       "      <td>1.0</td>\n",
       "      <td>8.0</td>\n",
       "      <td>2</td>\n",
       "      <td>37.0</td>\n",
       "      <td>31.0</td>\n",
       "      <td>0.0</td>\n",
       "      <td>perfil2</td>\n",
       "    </tr>\n",
       "    <tr>\n",
       "      <th>6576</th>\n",
       "      <td>5</td>\n",
       "      <td>17</td>\n",
       "      <td>0</td>\n",
       "      <td>4</td>\n",
       "      <td>0.0</td>\n",
       "      <td>0.0</td>\n",
       "      <td>1.0</td>\n",
       "      <td>10.0</td>\n",
       "      <td>6</td>\n",
       "      <td>102.0</td>\n",
       "      <td>93.0</td>\n",
       "      <td>1.0</td>\n",
       "      <td>perfil1</td>\n",
       "    </tr>\n",
       "    <tr>\n",
       "      <th>6577</th>\n",
       "      <td>4</td>\n",
       "      <td>4</td>\n",
       "      <td>8</td>\n",
       "      <td>9</td>\n",
       "      <td>1.0</td>\n",
       "      <td>1.0</td>\n",
       "      <td>1.0</td>\n",
       "      <td>9.0</td>\n",
       "      <td>6</td>\n",
       "      <td>98.0</td>\n",
       "      <td>97.0</td>\n",
       "      <td>1.0</td>\n",
       "      <td>perfil1</td>\n",
       "    </tr>\n",
       "  </tbody>\n",
       "</table>\n",
       "</div>"
      ],
      "text/plain": [
       "      graduacao  universidade  profissao  organizacao  \\\n",
       "6573          0            20          9            7   \n",
       "6574          0             6          6           11   \n",
       "6575          5            11         10            9   \n",
       "6576          5            17          0            4   \n",
       "6577          4             4          8            9   \n",
       "\n",
       "      pretende_fazer_cursos_lit  interesse_mba_lit  \\\n",
       "6573                        0.0                0.0   \n",
       "6574                        1.0                1.0   \n",
       "6575                        0.0                0.0   \n",
       "6576                        0.0                0.0   \n",
       "6577                        1.0                1.0   \n",
       "\n",
       "      importante_ter_certificado  horas_semanais_estudo  como_conheceu_lit  \\\n",
       "6573                         1.0                    6.0                  6   \n",
       "6574                         1.0                    6.0                  6   \n",
       "6575                         1.0                    8.0                  2   \n",
       "6576                         1.0                   10.0                  6   \n",
       "6577                         1.0                    9.0                  6   \n",
       "\n",
       "      modulos_iniciados  modulos_finalizados  certificados categoria  \n",
       "6573               39.0                 32.0           0.0   perfil2  \n",
       "6574              166.0                102.0           0.0   perfil4  \n",
       "6575               37.0                 31.0           0.0   perfil2  \n",
       "6576              102.0                 93.0           1.0   perfil1  \n",
       "6577               98.0                 97.0           1.0   perfil1  "
      ]
     },
     "execution_count": 5,
     "metadata": {},
     "output_type": "execute_result"
    }
   ],
   "source": [
    "df_training.tail()"
   ]
  },
  {
   "cell_type": "code",
   "execution_count": 6,
   "id": "square-seafood",
   "metadata": {},
   "outputs": [],
   "source": [
    "#Definindo as features e o target\n",
    "\n",
    "features = df_training[\n",
    "    [\n",
    "        'graduacao', 'universidade', 'profissao', 'organizacao',\n",
    "       'pretende_fazer_cursos_lit', 'interesse_mba_lit',\n",
    "       'importante_ter_certificado', 'horas_semanais_estudo',\n",
    "       'como_conheceu_lit', 'modulos_iniciados', 'modulos_finalizados',\n",
    "       'certificados'\n",
    "    ]\n",
    "]\n",
    "target = df_training['categoria'] \n"
   ]
  },
  {
   "cell_type": "code",
   "execution_count": 7,
   "id": "liked-richardson",
   "metadata": {},
   "outputs": [],
   "source": [
    "X = features\n",
    "y = target "
   ]
  },
  {
   "cell_type": "code",
   "execution_count": 8,
   "id": "international-cotton",
   "metadata": {},
   "outputs": [
    {
     "name": "stderr",
     "output_type": "stream",
     "text": [
      "C:\\Users\\User\\anaconda3\\lib\\site-packages\\imblearn\\utils\\_validation.py:587: FutureWarning: Pass sampling_strategy=all as keyword args. From version 0.9 passing these as positional arguments will result in an error\n",
      "  warnings.warn(\n"
     ]
    }
   ],
   "source": [
    "#Aplicando o balanceamento\n",
    "\n",
    "from imblearn.over_sampling import SMOTE\n",
    "from sklearn.model_selection import train_test_split\n",
    "\n",
    "smt = SMOTE('all', random_state=0)\n",
    "\n",
    "X_train, X_test, y_train, y_test = train_test_split(X, y, test_size=0.3, random_state=133)\n",
    "\n",
    "X, y = smt.fit_resample(X_train, y_train)"
   ]
  },
  {
   "cell_type": "code",
   "execution_count": 9,
   "id": "marked-differential",
   "metadata": {},
   "outputs": [
    {
     "data": {
      "image/png": "[encoded data removed]",
      "text/plain": [
       "<Figure size 432x288 with 1 Axes>"
      ]
     },
     "metadata": {
      "needs_background": "light"
     },
     "output_type": "display_data"
    }
   ],
   "source": [
    "import seaborn as sns\n",
    "import numpy as np \n",
    "\n",
    "ax = sns.countplot(x=y)"
   ]
  },
  {
   "cell_type": "code",
   "execution_count": 10,
   "id": "center-translation",
   "metadata": {},
   "outputs": [],
   "source": [
    "from sklearn.metrics import accuracy_score"
   ]
  },
  {
   "cell_type": "markdown",
   "id": "opposed-pocket",
   "metadata": {},
   "source": [
    "#### Random Forest"
   ]
  },
  {
   "cell_type": "code",
   "execution_count": 11,
   "id": "shaped-nelson",
   "metadata": {},
   "outputs": [
    {
     "name": "stdout",
     "output_type": "stream",
     "text": [
      "Accuracy for the fold no. 1 on the test set: 0.852112676056338\n",
      "Accuracy for the fold no. 2 on the test set: 0.8609865470852018\n",
      "Accuracy for the fold no. 3 on the test set: 0.8590647021140295\n",
      "Accuracy for the fold no. 4 on the test set: 0.8468930172966047\n",
      "Accuracy for the fold no. 5 on the test set: 0.8565022421524664\n",
      "Acurácia: 85.65%\n"
     ]
    }
   ],
   "source": [
    "from sklearn.model_selection import StratifiedKFold\n",
    "from sklearn.model_selection import cross_validate\n",
    "from sklearn.ensemble import RandomForestClassifier\n",
    "\n",
    "clf = RandomForestClassifier( \n",
    "    bootstrap=True,\n",
    "    ccp_alpha=0.0,\n",
    "    class_weight=None,\n",
    "    criterion='gini',\n",
    "    max_depth=15,\n",
    "    max_features=0.25,\n",
    "    max_leaf_nodes=None,\n",
    "    max_samples=None,\n",
    "    min_impurity_decrease=0.0,\n",
    "    min_impurity_split=None,\n",
    "    min_samples_leaf=1,\n",
    "    min_samples_split=6,\n",
    "    min_weight_fraction_leaf=0.0,\n",
    "    n_estimators=250,\n",
    "    n_jobs=None,\n",
    "    oob_score=False,\n",
    "    random_state=None,\n",
    "    verbose=0,\n",
    "    warm_start=False)\n",
    "\n",
    "kfold = StratifiedKFold(n_splits=5, shuffle=True, random_state=100)\n",
    "\n",
    "i = 1\n",
    "for train_index, test_index in kfold.split(X, y):\n",
    "  X_train, X_test = X.loc[train_index], X.loc[test_index]\n",
    "  y_train, y_test = y.loc[train_index], y.loc[test_index]\n",
    "\n",
    "  clf.fit(X_train, y_train)\n",
    "  print(f\"Accuracy for the fold no. {i} on the test set: {accuracy_score(y_test, clf.predict(X_test))}\")\n",
    "  i += 1\n",
    "\n",
    "y_pred = clf.predict(X_test)\n",
    "\n",
    "print(\"Acurácia: {}%\".format(100*round(accuracy_score(y_test, y_pred), 4)))"
   ]
  },
  {
   "cell_type": "markdown",
   "id": "through-insulin",
   "metadata": {},
   "source": [
    "#### Gradient Boosting"
   ]
  },
  {
   "cell_type": "code",
   "execution_count": 12,
   "id": "endangered-algebra",
   "metadata": {},
   "outputs": [
    {
     "name": "stdout",
     "output_type": "stream",
     "text": [
      "Accuracy for the fold no. 1 on the test set: 0.8431498079385403\n",
      "Accuracy for the fold no. 2 on the test set: 0.8539397821909033\n",
      "Accuracy for the fold no. 3 on the test set: 0.846252402306214\n",
      "Accuracy for the fold no. 4 on the test set: 0.8379244074311338\n",
      "Accuracy for the fold no. 5 on the test set: 0.8468930172966047\n",
      "Acurácia: 84.69%\n"
     ]
    }
   ],
   "source": [
    "from sklearn.ensemble import GradientBoostingClassifier\n",
    "from sklearn.metrics import accuracy_score\n",
    "\n",
    "gb_clf = GradientBoostingClassifier(ccp_alpha=0.0,\n",
    " criterion='friedman_mse',\n",
    " init=None,\n",
    " learning_rate=0.1,\n",
    " loss='deviance',\n",
    " max_depth=3,\n",
    " max_features=0.5,\n",
    " max_leaf_nodes=None,\n",
    " min_impurity_decrease=0.0,\n",
    " min_impurity_split=None,\n",
    " min_samples_leaf=1,\n",
    " min_samples_split=2,\n",
    " min_weight_fraction_leaf=0.0,\n",
    " n_estimators=50,\n",
    " n_iter_no_change=None,\n",
    " random_state=None,\n",
    " subsample=1.0,\n",
    " tol=0.0001,\n",
    " validation_fraction=0.1,\n",
    " verbose=0,\n",
    " warm_start=False)\n",
    "\n",
    "kfold = StratifiedKFold(n_splits=5, shuffle=True, random_state=100)\n",
    "\n",
    "i = 1\n",
    "for train_index, test_index in kfold.split(X, y):\n",
    "  X_train, X_test = X.loc[train_index], X.loc[test_index]\n",
    "  y_train, y_test = y.loc[train_index], y.loc[test_index]\n",
    "\n",
    "  gb_clf.fit(X_train, y_train)\n",
    "  print(f\"Accuracy for the fold no. {i} on the test set: {accuracy_score(y_test, gb_clf.predict(X_test))}\")\n",
    "  i += 1\n",
    "\n",
    "y_pred = gb_clf.predict(X_test)\n",
    "\n",
    "print(\"Acurácia: {}%\".format(100*round(accuracy_score(y_test, y_pred), 4)))"
   ]
  },
  {
   "cell_type": "markdown",
   "id": "introductory-bread",
   "metadata": {},
   "source": [
    "#### Extra Trees Classifier"
   ]
  },
  {
   "cell_type": "code",
   "execution_count": 10,
   "id": "floppy-aggregate",
   "metadata": {},
   "outputs": [
    {
     "name": "stdout",
     "output_type": "stream",
     "text": [
      "Accuracy for the fold no. 1 on the test set: 0.8444302176696543\n",
      "Accuracy for the fold no. 2 on the test set: 0.8577834721332479\n",
      "Accuracy for the fold no. 3 on the test set: 0.8526585522101218\n",
      "Accuracy for the fold no. 4 on the test set: 0.8449711723254324\n",
      "Accuracy for the fold no. 5 on the test set: 0.8584240871236387\n",
      "Acurácia: 85.84%\n"
     ]
    }
   ],
   "source": [
    "from sklearn.model_selection import StratifiedKFold\n",
    "from sklearn.model_selection import cross_validate\n",
    "from sklearn.ensemble import ExtraTreesClassifier\n",
    "from sklearn.model_selection import cross_val_score\n",
    "from numpy import mean\n",
    "from numpy import std\n",
    "\n",
    "extc = ExtraTreesClassifier(\n",
    " bootstrap=False,\n",
    " ccp_alpha=0.0,\n",
    " class_weight=None,\n",
    " criterion='gini',\n",
    " max_depth=None,\n",
    " max_features='sqrt',\n",
    " max_leaf_nodes=None,\n",
    " max_samples=None,\n",
    " min_impurity_decrease=0.0,\n",
    " min_impurity_split=None,\n",
    " min_samples_leaf=1,\n",
    " min_samples_split=6,\n",
    " min_weight_fraction_leaf=0.0,\n",
    " n_estimators=150,\n",
    " n_jobs=None,\n",
    " oob_score=False,\n",
    " random_state=None,\n",
    " verbose=0,\n",
    " warm_start=False\n",
    ")\n",
    "\n",
    "kfold = StratifiedKFold(n_splits=5, shuffle=True, random_state=100)\n",
    "\n",
    "i = 1\n",
    "for train_index, test_index in kfold.split(X, y):\n",
    "  X_train, X_test = X.loc[train_index], X.loc[test_index]\n",
    "  y_train, y_test = y.loc[train_index], y.loc[test_index]\n",
    "\n",
    "  extc.fit(X_train, y_train)\n",
    "  print(f\"Accuracy for the fold no. {i} on the test set: {accuracy_score(y_test, extc.predict(X_test))}\")\n",
    "  i += 1\n",
    "\n",
    "y_pred = extc.predict(X_test)\n",
    "\n",
    "print(\"Acurácia: {}%\".format(100*round(accuracy_score(y_test, y_pred), 4)))\n"
   ]
  },
  {
   "cell_type": "markdown",
   "id": "equal-antibody",
   "metadata": {},
   "source": [
    "#### Avaliação do modelo"
   ]
  },
  {
   "cell_type": "code",
   "execution_count": 13,
   "id": "continuing-lucas",
   "metadata": {},
   "outputs": [],
   "source": [
    "#Matrix de Confusão\n",
    "\n",
    "import matplotlib.pyplot as plt\n",
    "import numpy as np\n",
    "import itertools\n",
    "\n",
    "\n",
    "def plot_confusion_matrix(cm, target_names, title='Confusion matrix', cmap=None, normalize=True):\n",
    "    accuracy = np.trace(cm) / float(np.sum(cm))\n",
    "    misclass = 1 - accuracy\n",
    "    if cmap is None:\n",
    "        cmap = plt.get_cmap('Blues')\n",
    "    plt.figure(figsize=(8, 6))\n",
    "    plt.imshow(cm, interpolation='nearest', cmap=cmap)\n",
    "    plt.title(title)\n",
    "    plt.colorbar()\n",
    "    if target_names is not None:\n",
    "        tick_marks = np.arange(len(target_names))\n",
    "        plt.xticks(tick_marks, target_names, rotation=45)\n",
    "        plt.yticks(tick_marks, target_names)\n",
    "    if normalize:\n",
    "        cm = cm.astype('float') / cm.sum(axis=1)[:, np.newaxis]\n",
    "    thresh = cm.max() / 1.5 if normalize else cm.max() / 2\n",
    "    for i, j in itertools.product(range(cm.shape[0]), range(cm.shape[1])):\n",
    "        if normalize:\n",
    "            plt.text(j, i, \"{:0.4f}\".format(cm[i, j]),\n",
    "                     horizontalalignment=\"center\",\n",
    "                     color=\"white\" if cm[i, j] > thresh else \"black\")\n",
    "        else:\n",
    "            plt.text(j, i, \"{:,}\".format(cm[i, j]),\n",
    "                     horizontalalignment=\"center\",\n",
    "                     color=\"white\" if cm[i, j] > thresh else \"black\")\n",
    "    plt.tight_layout()\n",
    "    plt.ylabel('True label')\n",
    "    plt.xlabel('Predicted label\\naccuracy={:0.4f}; misclass={:0.4f}'.format(accuracy, misclass))\n",
    "    plt.show()"
   ]
  },
  {
   "cell_type": "code",
   "execution_count": 14,
   "id": "finnish-bouquet",
   "metadata": {},
   "outputs": [
    {
     "data": {
      "image/png": "[encoded data removed]",
      "text/plain": [
       "<Figure size 576x432 with 2 Axes>"
      ]
     },
     "metadata": {
      "needs_background": "light"
     },
     "output_type": "display_data"
    },
    {
     "name": "stdout",
     "output_type": "stream",
     "text": [
      "              precision    recall  f1-score   support\n",
      "\n",
      "     perfil1       0.80      0.84      0.82       261\n",
      "     perfil2       0.80      0.87      0.83       260\n",
      "     perfil3       0.90      0.87      0.88       260\n",
      "     perfil4       0.90      0.83      0.87       260\n",
      "     perfil5       0.89      0.81      0.85       260\n",
      "     perfil6       0.81      0.86      0.83       260\n",
      "\n",
      "    accuracy                           0.85      1561\n",
      "   macro avg       0.85      0.85      0.85      1561\n",
      "weighted avg       0.85      0.85      0.85      1561\n",
      "\n"
     ]
    }
   ],
   "source": [
    "#Avaliação\n",
    "\n",
    "from sklearn.metrics import confusion_matrix\n",
    "from sklearn.metrics import accuracy_score, confusion_matrix, classification_report\n",
    "\n",
    "plot_confusion_matrix(confusion_matrix(y_test, y_pred), ['parfil1', 'perfil2', 'perfil3', 'perfil4', 'perfil5', 'perfil6'])\n",
    "\n",
    "print(classification_report(y_test, y_pred))"
   ]
  },
  {
   "cell_type": "code",
   "execution_count": null,
   "id": "given-transfer",
   "metadata": {},
   "outputs": [],
   "source": []
  }
 ],
 "metadata": {
  "kernelspec": {
   "display_name": "Python 3",
   "language": "python",
   "name": "python3"
  },
  "language_info": {
   "codemirror_mode": {
    "name": "ipython",
    "version": 3
   },
   "file_extension": ".py",
   "mimetype": "text/x-python",
   "name": "python",
   "nbconvert_exporter": "python",
   "pygments_lexer": "ipython3",
   "version": "3.8.5"
  }
 },
 "nbformat": 4,
 "nbformat_minor": 5
}
